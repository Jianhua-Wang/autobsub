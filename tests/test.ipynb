{
 "cells": [
  {
   "cell_type": "code",
   "execution_count": 2,
   "metadata": {},
   "outputs": [],
   "source": [
    "from autobsub import LSFPool"
   ]
  },
  {
   "cell_type": "code",
   "execution_count": 3,
   "metadata": {},
   "outputs": [
    {
     "data": {
      "application/vnd.jupyter.widget-view+json": {
       "model_id": "8242c199fcfa4d61b5b6863f9f6fe9e7",
       "version_major": 2,
       "version_minor": 0
      },
      "text/plain": [
       "Output()"
      ]
     },
     "metadata": {},
     "output_type": "display_data"
    },
    {
     "data": {
      "text/html": [
       "<pre style=\"white-space:pre;overflow-x:auto;line-height:normal;font-family:Menlo,'DejaVu Sans Mono',consolas,'Courier New',monospace\"></pre>\n"
      ],
      "text/plain": []
     },
     "metadata": {},
     "output_type": "display_data"
    }
   ],
   "source": [
    "# construct the excutor\n",
    "def echo_sleep(text, time):\n",
    "    cmd = f\"echo {text} && sleep {time}\"\n",
    "    return cmd\n",
    "\n",
    "\n",
    "# prepare the params for each excutor\n",
    "params = []\n",
    "for text in range(5):\n",
    "    for time in range(6):\n",
    "        params.append([text, time])\n",
    "\n",
    "# submit to parallel run\n",
    "# p = LSFPool(queue=\"voltron_normal\", pool_size=10)\n",
    "# p.starmap(echo_sleep, params)\n",
    "\n",
    "with LSFPool(queue=\"voltron_normal\", pool_size=10) as p:\n",
    "    p.starmap(echo_sleep, params)"
   ]
  },
  {
   "cell_type": "code",
   "execution_count": 14,
   "metadata": {},
   "outputs": [
    {
     "data": {
      "text/plain": [
       "CompletedProcess(args='bsub .autobsub/1112202959/scripts/echo_sleep_000.sh', returncode=0, stdout='Job <34602633> is submitted to queue <voltron_normal>.\\n', stderr='')"
      ]
     },
     "execution_count": 14,
     "metadata": {},
     "output_type": "execute_result"
    }
   ],
   "source": [
    "cmd = \"bsub .autobsub/1112202959/scripts/echo_sleep_000.sh\"\n",
    "run(cmd, stdout=PIPE, stderr=PIPE, shell=True, text=True)"
   ]
  },
  {
   "cell_type": "code",
   "execution_count": null,
   "metadata": {},
   "outputs": [],
   "source": []
  }
 ],
 "metadata": {
  "kernelspec": {
   "display_name": "autobsub",
   "language": "python",
   "name": "python3"
  },
  "language_info": {
   "codemirror_mode": {
    "name": "ipython",
    "version": 3
   },
   "file_extension": ".py",
   "mimetype": "text/x-python",
   "name": "python",
   "nbconvert_exporter": "python",
   "pygments_lexer": "ipython3",
   "version": "3.9.20"
  }
 },
 "nbformat": 4,
 "nbformat_minor": 2
}
